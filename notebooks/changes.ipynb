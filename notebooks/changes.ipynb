{
 "cells": [
  {
   "cell_type": "code",
   "execution_count": 3,
   "metadata": {},
   "outputs": [],
   "source": [
    "import pandas as pd\n",
    "from src.new.newtests import test_speeds, sprinkler_pts, test_joint_prob"
   ]
  },
  {
   "cell_type": "markdown",
   "metadata": {},
   "source": [
    "# Code changes\n",
    "\n",
    "The new updates fix the quantum circuits and replace the QSearch with a calculation of the probability of the evidence P(E) to calculate the optimal number of Grover iterations for the circuit. \n",
    "\n",
    "Additionally, a qiskitless version is created by calculating the Grover circuit probabilities analytically and adding shot noise. \n",
    "\n",
    "This allows for much faster execution of the algorithms.\n",
    "\n",
    "This notebook illustrates the changes and main additions, using a simple example (cloudy-sprinkler-rain-wetgrass)."
   ]
  },
  {
   "cell_type": "markdown",
   "metadata": {},
   "source": [
    "## Speed comparison"
   ]
  },
  {
   "cell_type": "code",
   "execution_count": 4,
   "metadata": {},
   "outputs": [
    {
     "name": "stdout",
     "output_type": "stream",
     "text": [
      "> Testing speed for quantum Bayesian network queries.\n",
      "* Old code\n",
      "> Time elapsed: 0.10338221189996694ms.\n",
      "  (To be used as reference.)\n",
      "* New code\n",
      "> Time elapsed: 0.012964831400022376ms.\n",
      "  (8.0x faster than the reference.)\n",
      "* New (no Qiskit) code\n",
      "> Time elapsed: 0.001974662199965678ms.\n",
      "  (52.4x faster than the reference.)\n"
     ]
    }
   ],
   "source": [
    "test_speeds(Nruns = 10, Nsamples = 10)"
   ]
  },
  {
   "cell_type": "markdown",
   "metadata": {},
   "source": [
    "The speed-up is largely enabled by the calculation of the joint probability P(e) from data structures we have access to (CPTs and topological order). P(e) is the amplitude; using it, we can calculate the optimal number of Grover iterations, dispensing with the exponential QSearch and using a fixed circuit. Furthermore, this allows us to simulate the quantum sampling classically, because we can calculate the amplified success rate (lower rejection). We can then forgo Qiskit.   "
   ]
  },
  {
   "cell_type": "markdown",
   "metadata": {},
   "source": [
    "## Joint probability calculation\n",
    "\n",
    "Let's consider the sprinkler example.\n",
    "\n"
   ]
  },
  {
   "cell_type": "code",
   "execution_count": 1,
   "metadata": {},
   "outputs": [
    {
     "data": {
      "image/png": "[encoded data removed]",
      "text/plain": [
       "<Figure size 640x480 with 1 Axes>"
      ]
     },
     "metadata": {},
     "output_type": "display_data"
    }
   ],
   "source": [
    "from src.new.newtests import init_problem_bn\n",
    "\n",
    "bn = init_problem_bn()\n",
    "bn.draw()"
   ]
  },
  {
   "cell_type": "markdown",
   "metadata": {},
   "source": [
    "The CPTS we have are $P(C)$, $P(S|C)$, $P(R|C)$, $P(W|S,R)$. "
   ]
  },
  {
   "cell_type": "code",
   "execution_count": 4,
   "metadata": {},
   "outputs": [
    {
     "name": "stdout",
     "output_type": "stream",
     "text": [
      "*P(C):\n",
      "   Cloudy  Prob\n",
      "0       0   0.5\n",
      "1       1   0.5\n",
      "*P(S|C):\n",
      "   Cloudy  Sprinkler  Prob\n",
      "0       0          0   0.5\n",
      "1       0          1   0.5\n",
      "2       1          0   0.9\n",
      "3       1          1   0.1\n",
      "*P(R|C):\n",
      "   Cloudy  Rain  Prob\n",
      "0       0     0   0.8\n",
      "1       0     1   0.2\n",
      "2       1     0   0.2\n",
      "3       1     1   0.8\n",
      "*P(W|S,R):\n",
      "   Sprinkler  Rain  WetGrass  Prob\n",
      "0          0     0         0  1.00\n",
      "1          0     0         1  0.00\n",
      "2          0     1         0  0.10\n",
      "3          0     1         1  0.90\n",
      "4          1     0         0  0.10\n",
      "5          1     0         1  0.90\n",
      "6          1     1         0  0.01\n",
      "7          1     1         1  0.99\n"
     ]
    }
   ],
   "source": [
    "def print_cpts(cpts_dict):\n",
    "    for name in cpts_dict.keys():\n",
    "        a = name[0]\n",
    "        d = cpts_dict[name]\n",
    "        parents = [p[0] for p in d.keys() if p != \"Prob\" and p!=name]\n",
    "        cond = (\"|\" + \",\".join(parents)) if len(parents)>0 else \"\"\n",
    "        print(f\"*P({a}{cond}):\")\n",
    "        df = pd.DataFrame(d)\n",
    "        print(df)\n",
    "\n",
    "d = sprinkler_pts(simpler = False)\n",
    "print_cpts(d)"
   ]
  },
  {
   "cell_type": "markdown",
   "metadata": {},
   "source": [
    "The most complicated case where we have to calculate joint probabilities is when some variables are not specified. \n",
    "\n",
    "For instance, $P(C = 1, R = 1, S = 1, W = 0)$ is straightforward. We can use:\n",
    "\n",
    "\n",
    "$$P(x_1, \\dots, x_N) = \\prod_N P(x_i | parents(X_i))$$\n",
    "\n",
    "But for joint probabilities like $P(C = 1, R = 1, W = 0)$, we must marginalize over the variable that is not present. We cannot calculate $$P(C=1)P(R=1|C=1)P(W=0|R=1,C=1)$$ because we don't have $P(W|C,R)$, only $P(W|S,R)$. So we have to sum over values of the absent variable(s):\n",
    "\n",
    "$$P(C = 1, R = 1, W = 0) = \\sum_{s \\in \\{0,1\\}} P(C=1)P(R=1|C=1)P(W=0|R=1,S=s)P(S=s|C=1)$$\n",
    "\n",
    "$$ = 0.5 \\times 0.8 \\times (0.9 \\times 0.1 + 0.1 \\times 0.01) = 0.364"
   ]
  },
  {
   "cell_type": "code",
   "execution_count": 5,
   "metadata": {},
   "outputs": [
    {
     "name": "stdout",
     "output_type": "stream",
     "text": [
      "Sprinkler\n",
      "Calculated joint probability: 0.03640000000000001\n"
     ]
    }
   ],
   "source": [
    "ev = {\"Cloudy\": 1, \"Rain\": 1, \"WetGrass\": 0}\n",
    "test_joint_prob(ev)"
   ]
  },
  {
   "cell_type": "markdown",
   "metadata": {},
   "source": [
    "We create a function that calculates the joint probability of an arbitrary subset of variables given the topological order and the CPTs (both of which we have). \n",
    "\n",
    "We have to multiply the conditional probabilities of each node and multiply them. To calculate the conditional probability of a node:\n",
    "* If there are no unspecified parents, look up the CPT.\n",
    "* If there are, pick the unspecified parent that is highest in the topological order. Calculate the conditional probability of this parent P given all the other specified variables, for each of its possible values.\n",
    "* Recursively multiply these probabilities for each value of P by the conditional probability of the original node assuming the value for P. \n",
    "* This won't terminate if there is more than one parent for each node. So we only consider a parent as unspecified if there hasn't already been a specified parent that was at the same level or higher in the topological order. Any possible path should give the same result if the probability distribution is correct."
   ]
  }
 ],
 "metadata": {
  "kernelspec": {
   "display_name": "qbrl",
   "language": "python",
   "name": "python3"
  },
  "language_info": {
   "codemirror_mode": {
    "name": "ipython",
    "version": 3
   },
   "file_extension": ".py",
   "mimetype": "text/x-python",
   "name": "python",
   "nbconvert_exporter": "python",
   "pygments_lexer": "ipython3",
   "version": "3.13.1"
  }
 },
 "nbformat": 4,
 "nbformat_minor": 2
}
