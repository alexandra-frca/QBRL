{
 "cells": [
  {
   "cell_type": "code",
   "execution_count": null,
   "metadata": {},
   "outputs": [
    {
     "name": "stderr",
     "output_type": "stream",
     "text": [
      "\n",
      "\u001b[A\n",
      "\u001b[A\n",
      "\u001b[A"
     ]
    },
    {
     "ename": "KeyboardInterrupt",
     "evalue": "",
     "output_type": "error",
     "traceback": [
      "\u001b[1;31m---------------------------------------------------------------------------\u001b[0m",
      "\u001b[1;31mKeyboardInterrupt\u001b[0m                         Traceback (most recent call last)",
      "Cell \u001b[1;32mIn[3], line 13\u001b[0m\n\u001b[0;32m     11\u001b[0m runs \u001b[38;5;241m=\u001b[39m \u001b[38;5;241m1\u001b[39m\n\u001b[0;32m     12\u001b[0m tmax \u001b[38;5;241m=\u001b[39m \u001b[38;5;241m10\u001b[39m\n\u001b[1;32m---> 13\u001b[0m \u001b[43mrun_config\u001b[49m\u001b[43m(\u001b[49m\u001b[43mconfig\u001b[49m\u001b[43m,\u001b[49m\u001b[43m \u001b[49m\u001b[43mruns\u001b[49m\u001b[43m,\u001b[49m\u001b[43m \u001b[49m\u001b[43mtmax\u001b[49m\u001b[43m)\u001b[49m\n\u001b[0;32m     15\u001b[0m plot_crd(df)\n",
      "File \u001b[1;32mc:\\Users\\alexa\\Desktop\\QBRL\\metric_collector.py:156\u001b[0m, in \u001b[0;36mrun_config\u001b[1;34m(config, num_runs, time)\u001b[0m\n\u001b[0;32m    153\u001b[0m tree \u001b[38;5;241m=\u001b[39m get_tree(ddn, horizon)\n\u001b[0;32m    155\u001b[0m \u001b[38;5;66;03m# Get metrics\u001b[39;00m\n\u001b[1;32m--> 156\u001b[0m run_dict \u001b[38;5;241m=\u001b[39m \u001b[43mget_metrics\u001b[49m\u001b[43m(\u001b[49m\u001b[43mddn\u001b[49m\u001b[43m,\u001b[49m\u001b[43m \u001b[49m\u001b[43mqddn\u001b[49m\u001b[43m,\u001b[49m\u001b[43m \u001b[49m\u001b[43mtree\u001b[49m\u001b[43m,\u001b[49m\u001b[43m \u001b[49m\u001b[43mconfig\u001b[49m\u001b[43m,\u001b[49m\u001b[43m \u001b[49m\u001b[43mnum_runs\u001b[49m\u001b[43m,\u001b[49m\u001b[43m \u001b[49m\u001b[43mtime\u001b[49m\u001b[43m)\u001b[49m\n\u001b[0;32m    158\u001b[0m \u001b[38;5;66;03m# Transform configs into dictionary for dataframe\u001b[39;00m\n\u001b[0;32m    159\u001b[0m df \u001b[38;5;241m=\u001b[39m pd\u001b[38;5;241m.\u001b[39mDataFrame([{\u001b[38;5;241m*\u001b[39m\u001b[38;5;241m*\u001b[39mconfig, \u001b[38;5;241m*\u001b[39m\u001b[38;5;241m*\u001b[39mrun_d} \u001b[38;5;28;01mfor\u001b[39;00m run_d \u001b[38;5;129;01min\u001b[39;00m run_dict])\n",
      "File \u001b[1;32mc:\\Users\\alexa\\Desktop\\QBRL\\metric_collector.py:113\u001b[0m, in \u001b[0;36mget_metrics\u001b[1;34m(ddn, qddn, tree, config, num_runs, time)\u001b[0m\n\u001b[0;32m    110\u001b[0m run_bar\u001b[38;5;241m.\u001b[39mset_postfix(H\u001b[38;5;241m=\u001b[39mhorizon, base_samples\u001b[38;5;241m=\u001b[39mclassical_samples)\n\u001b[0;32m    111\u001b[0m \u001b[38;5;28;01mfor\u001b[39;00m run_num \u001b[38;5;129;01min\u001b[39;00m run_bar:\n\u001b[0;32m    112\u001b[0m     \u001b[38;5;66;03m# Get metrics for specific run\u001b[39;00m\n\u001b[1;32m--> 113\u001b[0m     rs, stds, _, crs \u001b[38;5;241m=\u001b[39m \u001b[43mget_metrics_per_run\u001b[49m\u001b[43m(\u001b[49m\u001b[43mddn\u001b[49m\u001b[43m,\u001b[49m\u001b[43m \u001b[49m\u001b[43mtree\u001b[49m\u001b[43m,\u001b[49m\u001b[43m \u001b[49m\u001b[43mclassical_samples\u001b[49m\u001b[43m,\u001b[49m\u001b[43m \u001b[49m\u001b[43mreward_samples\u001b[49m\u001b[43m,\u001b[49m\u001b[43m \u001b[49m\u001b[43mtime\u001b[49m\u001b[43m)\u001b[49m\n\u001b[0;32m    114\u001b[0m     q_rs, q_stds, q_samples, qrs \u001b[38;5;241m=\u001b[39m get_metrics_per_run(qddn, tree, classical_samples, reward_samples, time, \u001b[38;5;28;01mTrue\u001b[39;00m)\n\u001b[0;32m    116\u001b[0m     \u001b[38;5;66;03m# Append to resulting list of dicts\u001b[39;00m\n",
      "File \u001b[1;32mc:\\Users\\alexa\\Desktop\\QBRL\\metric_collector.py:75\u001b[0m, in \u001b[0;36mget_metrics_per_run\u001b[1;34m(ddn, tree, n_samples, reward_samples, time, quantum)\u001b[0m\n\u001b[0;32m     72\u001b[0m     n_samples_ \u001b[38;5;241m=\u001b[39m \u001b[38;5;28mint\u001b[39m(np\u001b[38;5;241m.\u001b[39mround(ratio \u001b[38;5;241m*\u001b[39m n_samples))\n\u001b[0;32m     73\u001b[0m     \u001b[38;5;66;03m# print(\"\\n2\", n_samples_, \"\\n\")\u001b[39;00m\n\u001b[0;32m     74\u001b[0m \u001b[38;5;28;01melse\u001b[39;00m:\n\u001b[1;32m---> 75\u001b[0m     coeff \u001b[38;5;241m=\u001b[39m \u001b[43mget_sample_coefficients\u001b[49m\u001b[43m(\u001b[49m\u001b[43mddn\u001b[49m\u001b[43m,\u001b[49m\u001b[43m \u001b[49m\u001b[43mtree\u001b[49m\u001b[43m,\u001b[49m\u001b[43m \u001b[49m\u001b[43mddn\u001b[49m\u001b[38;5;241;43m.\u001b[39;49m\u001b[43mget_belief_state\u001b[49m\u001b[43m(\u001b[49m\u001b[43m)\u001b[49m\u001b[43m,\u001b[49m\u001b[43m \u001b[49m\u001b[43mreward_samples\u001b[49m\u001b[43m)\u001b[49m\n\u001b[0;32m     76\u001b[0m     n_samples_ \u001b[38;5;241m=\u001b[39m n_samples\n\u001b[0;32m     78\u001b[0m \u001b[38;5;66;03m# Calculate results\u001b[39;00m\n",
      "File \u001b[1;32mc:\\Users\\alexa\\Desktop\\QBRL\\metric_collector.py:41\u001b[0m, in \u001b[0;36mget_sample_coefficients\u001b[1;34m(ddn, tree, belief_state, n_samples, quantum)\u001b[0m\n\u001b[0;32m     39\u001b[0m \u001b[38;5;28;01mfor\u001b[39;00m observation_tree \u001b[38;5;129;01min\u001b[39;00m action_tree\u001b[38;5;241m.\u001b[39mchildren:\n\u001b[0;32m     40\u001b[0m     observation \u001b[38;5;241m=\u001b[39m observation_tree\u001b[38;5;241m.\u001b[39mattributes[\u001b[38;5;124m\"\u001b[39m\u001b[38;5;124mobservation\u001b[39m\u001b[38;5;124m\"\u001b[39m]\n\u001b[1;32m---> 41\u001b[0m     new_belief \u001b[38;5;241m=\u001b[39m \u001b[43mbelief_update\u001b[49m\u001b[43m(\u001b[49m\u001b[43mddn\u001b[49m\u001b[43m,\u001b[49m\u001b[43m \u001b[49m\u001b[43mbelief_state\u001b[49m\u001b[43m,\u001b[49m\u001b[43m \u001b[49m\u001b[43maction\u001b[49m\u001b[43m,\u001b[49m\u001b[43m \u001b[49m\u001b[43mobservation\u001b[49m\u001b[43m,\u001b[49m\u001b[43m \u001b[49m\u001b[43mn_samples\u001b[49m\u001b[43m)\u001b[49m\n\u001b[0;32m     42\u001b[0m     new_r \u001b[38;5;241m=\u001b[39m get_sample_coefficients(ddn, observation_tree, new_belief, n_samples)\n\u001b[0;32m     43\u001b[0m     r \u001b[38;5;241m+\u001b[39m\u001b[38;5;241m=\u001b[39m new_r\n",
      "File \u001b[1;32mc:\\Users\\alexa\\Desktop\\QBRL\\src\\utils.py:59\u001b[0m, in \u001b[0;36mbelief_update\u001b[1;34m(ddn, belief_state, actions, observations, n_samples, epsilon)\u001b[0m\n\u001b[0;32m     57\u001b[0m \u001b[38;5;66;03m# Query the next belief-state\u001b[39;00m\n\u001b[0;32m     58\u001b[0m evidence \u001b[38;5;241m=\u001b[39m {\u001b[38;5;241m*\u001b[39m\u001b[38;5;241m*\u001b[39mbelief_state, \u001b[38;5;241m*\u001b[39m\u001b[38;5;241m*\u001b[39mactions, \u001b[38;5;241m*\u001b[39m\u001b[38;5;241m*\u001b[39mobservations}\n\u001b[1;32m---> 59\u001b[0m next_belief \u001b[38;5;241m=\u001b[39m \u001b[43mddn\u001b[49m\u001b[38;5;241;43m.\u001b[39;49m\u001b[43mquery\u001b[49m\u001b[43m(\u001b[49m\u001b[43mquery\u001b[49m\u001b[43m,\u001b[49m\u001b[43m \u001b[49m\u001b[43mevidence\u001b[49m\u001b[43m,\u001b[49m\u001b[43m \u001b[49m\u001b[43mn_samples\u001b[49m\u001b[43m,\u001b[49m\u001b[43m \u001b[49m\u001b[43mprint_pe\u001b[49m\u001b[43m \u001b[49m\u001b[38;5;241;43m=\u001b[39;49m\u001b[43m \u001b[49m\u001b[38;5;28;43;01mTrue\u001b[39;49;00m\u001b[43m)\u001b[49m\n\u001b[0;32m     61\u001b[0m \u001b[38;5;66;03m# TODO: Check if there is a better way to do this\u001b[39;00m\n\u001b[0;32m     62\u001b[0m \u001b[38;5;66;03m# Reduce column time\u001b[39;00m\n\u001b[0;32m     63\u001b[0m col_replace \u001b[38;5;241m=\u001b[39m {(n, t): (n, t\u001b[38;5;241m-\u001b[39m\u001b[38;5;241m1\u001b[39m) \u001b[38;5;28;01mfor\u001b[39;00m (n, t) \u001b[38;5;129;01min\u001b[39;00m query}\n",
      "File \u001b[1;32mc:\\Users\\alexa\\Desktop\\QBRL\\src\\networks\\bn.py:236\u001b[0m, in \u001b[0;36mBayesianNetwork.query\u001b[1;34m(self, query, evidence, n_samples, quantum, print_pe)\u001b[0m\n\u001b[0;32m    233\u001b[0m num_samples \u001b[38;5;241m=\u001b[39m \u001b[38;5;241m0\u001b[39m\n\u001b[0;32m    234\u001b[0m \u001b[38;5;28;01mwhile\u001b[39;00m (num_samples \u001b[38;5;241m<\u001b[39m n_samples):\n\u001b[0;32m    235\u001b[0m     \u001b[38;5;66;03m# Extract sample from the BN.\u001b[39;00m\n\u001b[1;32m--> 236\u001b[0m     sample \u001b[38;5;241m=\u001b[39m \u001b[38;5;28;43mself\u001b[39;49m\u001b[38;5;241;43m.\u001b[39;49m\u001b[43mget_sample\u001b[49m\u001b[43m(\u001b[49m\u001b[43m)\u001b[49m \n\u001b[0;32m    237\u001b[0m     \u001b[38;5;66;03m# Store sample if it matches with evidence.\u001b[39;00m\n\u001b[0;32m    238\u001b[0m     matches \u001b[38;5;241m=\u001b[39m [sample[name] \u001b[38;5;241m==\u001b[39m evidence[name] \u001b[38;5;28;01mfor\u001b[39;00m name \u001b[38;5;129;01min\u001b[39;00m evidence] \n",
      "File \u001b[1;32mc:\\Users\\alexa\\Desktop\\QBRL\\src\\networks\\bn.py:164\u001b[0m, in \u001b[0;36mBayesianNetwork.get_sample\u001b[1;34m(self)\u001b[0m\n\u001b[0;32m    162\u001b[0m \u001b[38;5;66;03m# Sample a result from each node\u001b[39;00m\n\u001b[0;32m    163\u001b[0m \u001b[38;5;28;01mfor\u001b[39;00m node \u001b[38;5;129;01min\u001b[39;00m \u001b[38;5;28mself\u001b[39m\u001b[38;5;241m.\u001b[39mnode_queue:\n\u001b[1;32m--> 164\u001b[0m     sample[node] \u001b[38;5;241m=\u001b[39m \u001b[38;5;28;43mself\u001b[39;49m\u001b[38;5;241;43m.\u001b[39;49m\u001b[43mnode_dict\u001b[49m\u001b[43m[\u001b[49m\u001b[43mnode\u001b[49m\u001b[43m]\u001b[49m\u001b[38;5;241;43m.\u001b[39;49m\u001b[43mget_sample\u001b[49m\u001b[43m(\u001b[49m\u001b[43msample\u001b[49m\u001b[43m)\u001b[49m\n\u001b[0;32m    166\u001b[0m \u001b[38;5;28;01mreturn\u001b[39;00m sample\n",
      "File \u001b[1;32mc:\\Users\\alexa\\Desktop\\QBRL\\src\\networks\\nodes.py:134\u001b[0m, in \u001b[0;36mDiscreteNode.get_sample\u001b[1;34m(self, sample)\u001b[0m\n\u001b[0;32m    131\u001b[0m \u001b[38;5;28;01mfor\u001b[39;00m name \u001b[38;5;129;01min\u001b[39;00m sample:\n\u001b[0;32m    132\u001b[0m     df \u001b[38;5;241m=\u001b[39m df\u001b[38;5;241m.\u001b[39mloc[df[name] \u001b[38;5;241m==\u001b[39m sample[name]]\n\u001b[1;32m--> 134\u001b[0m r \u001b[38;5;241m=\u001b[39m \u001b[43mnp\u001b[49m\u001b[38;5;241;43m.\u001b[39;49m\u001b[43mrandom\u001b[49m\u001b[38;5;241;43m.\u001b[39;49m\u001b[43mchoice\u001b[49m\u001b[43m(\u001b[49m\u001b[43mdf\u001b[49m\u001b[43m[\u001b[49m\u001b[38;5;28;43mid\u001b[39;49m\u001b[43m]\u001b[49m\u001b[43m,\u001b[49m\u001b[43m \u001b[49m\u001b[43mp\u001b[49m\u001b[43m \u001b[49m\u001b[38;5;241;43m=\u001b[39;49m\u001b[43m \u001b[49m\u001b[43mdf\u001b[49m\u001b[43m[\u001b[49m\u001b[38;5;124;43m\"\u001b[39;49m\u001b[38;5;124;43mProb\u001b[39;49m\u001b[38;5;124;43m\"\u001b[39;49m\u001b[43m]\u001b[49m\u001b[43m)\u001b[49m\n\u001b[0;32m    135\u001b[0m \u001b[38;5;28;01mreturn\u001b[39;00m r\n",
      "\u001b[1;31mKeyboardInterrupt\u001b[0m: "
     ]
    }
   ],
   "source": [
    "from metric_collector import run_config \n",
    "from src.new.plotting import plot_crd\n",
    "config = {\n",
    "    \"experiment\": \"tiger\",\n",
    "    \"discount\": 0.9,\n",
    "    \"horizon\": 2,\n",
    "    \"c_sample\": 5,\n",
    "    \"r_sample\": 250\n",
    "}\n",
    "\n",
    "runs = 1\n",
    "tmax = 10\n",
    "df = run_config(config, runs, tmax, save = False)\n",
    "\n",
    "plot_crd(df)\n",
    "    "
   ]
  },
  {
   "cell_type": "code",
   "execution_count": null,
   "metadata": {},
   "outputs": [],
   "source": [
    "num_runs = 1 \n",
    "tmax = 2\n",
    "configs0 = {\n",
    "    \"experiment\": [\"tiger\", \"robot\", \"gridworld\"],\n",
    "    \"discount\": [0.9],\n",
    "    \"horizon\": [2],\n",
    "    \"c_sample\": [5],\n",
    "    \"r_sample\": [250]\n",
    "}\n"
   ]
  }
 ],
 "metadata": {
  "kernelspec": {
   "display_name": "qbrl",
   "language": "python",
   "name": "python3"
  },
  "language_info": {
   "codemirror_mode": {
    "name": "ipython",
    "version": 3
   },
   "file_extension": ".py",
   "mimetype": "text/x-python",
   "name": "python",
   "nbconvert_exporter": "python",
   "pygments_lexer": "ipython3",
   "version": "3.13.1"
  }
 },
 "nbformat": 4,
 "nbformat_minor": 2
}
