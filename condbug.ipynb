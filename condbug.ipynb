{
 "cells": [
  {
   "cell_type": "code",
   "execution_count": 3,
   "metadata": {},
   "outputs": [],
   "source": [
    "import pandas as pd \n",
    "from get_ddns import get_tiger_ddn\n",
    "from src.networks.bn import BayesianNetwork as BN"
   ]
  },
  {
   "cell_type": "code",
   "execution_count": 1,
   "metadata": {},
   "outputs": [],
   "source": [
    "def joint_prob(bn, d):\n",
    "    P = 1\n",
    "    for node in list(d.keys()):\n",
    "        P *= cond_prob(bn, node, d)  \n",
    "    return P\n",
    "        \n",
    "def cond_prob(bn, node, d):\n",
    "    # print(node, d)\n",
    "    val = d[node]\n",
    "    ids = list(d.keys())\n",
    "    vals = [d[var] for var in ids]\n",
    "    parents = bn.get_parents(node)\n",
    "    # Topological order.\n",
    "    parents = [node for node in bn.node_queue if node in parents]\n",
    "    \n",
    "    # If a parent with higher topological order is specified, no need for \n",
    "    # other. Can find path to calculate probability without it.\n",
    "    # Remember no loops. If nodes with same order, index is arbitrary\n",
    "    absent_parents = [parent for parent in parents if parent not in d]\n",
    "    present_parents = [parent for parent in parents if parent in d]\n",
    "    for ap in absent_parents:\n",
    "        for parent in present_parents:\n",
    "            if parents.index(ap) > parents.index(parent):       \n",
    "                absent_parents.remove(ap)\n",
    "            \n",
    "    if not absent_parents:\n",
    "        # All parent values specified.\n",
    "        pvs = [(p,v) for (p,v) in zip(ids, vals) if p in parents]\n",
    "        if pvs:\n",
    "            # Split into list of parent ids, list of parent values.\n",
    "            ps, pvals = map(list, zip(*pvs))\n",
    "        else:\n",
    "          ps, pvals = [], []\n",
    "        cp = cond_prob_aux(bn, node, val, ps, pvals)\n",
    "        return cp\n",
    "    else:\n",
    "        # Need recursivity to consider possible parent values.\n",
    "        \n",
    "        parent = parents[0]\n",
    "        print(parent)\n",
    "        vals = [0, 1]\n",
    "        \n",
    "        ds = [deepcopy(d) for val in vals]\n",
    "        for d, val in zip(ds,vals):\n",
    "            d[parent] = val\n",
    "            \n",
    "        ps = [cond_prob(bn, parent, d) for d in ds]\n",
    "        # print(d)\n",
    "        \n",
    "        return sum([p*cond_prob(bn, node, d) for p,d in zip(ps, ds)])\n",
    "\n",
    "def cond_prob_aux(bn, node, nval, parents, pvals):\n",
    "    # P(node|parents) where all parent values specified. Works for no parents.\n",
    "    df = bn.get_pt(node)\n",
    "    lnodes = parents + [node]\n",
    "    lvals = pvals + [nval]\n",
    "    cP = df.loc[(df[lnodes] == lvals).all(axis = 1), 'Prob']\n",
    "    cP = cP.iat[0]\n",
    "    return cP"
   ]
  },
  {
   "cell_type": "code",
   "execution_count": 10,
   "metadata": {},
   "outputs": [
    {
     "name": "stdout",
     "output_type": "stream",
     "text": [
      "df None\n",
      "lnodes [('A', 0)]\n"
     ]
    },
    {
     "ename": "TypeError",
     "evalue": "'NoneType' object is not subscriptable",
     "output_type": "error",
     "traceback": [
      "\u001b[1;31m---------------------------------------------------------------------------\u001b[0m",
      "\u001b[1;31mTypeError\u001b[0m                                 Traceback (most recent call last)",
      "Cell \u001b[1;32mIn[10], line 10\u001b[0m\n\u001b[0;32m      7\u001b[0m v1 \u001b[38;5;241m=\u001b[39m pd\u001b[38;5;241m.\u001b[39mDataFrame({(\u001b[38;5;124m'\u001b[39m\u001b[38;5;124mS\u001b[39m\u001b[38;5;124m'\u001b[39m, \u001b[38;5;241m0\u001b[39m): [\u001b[38;5;241m0\u001b[39m, \u001b[38;5;241m1\u001b[39m], \u001b[38;5;124m'\u001b[39m\u001b[38;5;124mProb\u001b[39m\u001b[38;5;124m'\u001b[39m: [\u001b[38;5;241m0.5\u001b[39m, \u001b[38;5;241m0.5\u001b[39m]})\n\u001b[0;32m      8\u001b[0m d \u001b[38;5;241m=\u001b[39m {(\u001b[38;5;124m\"\u001b[39m\u001b[38;5;124mA\u001b[39m\u001b[38;5;124m\"\u001b[39m,\u001b[38;5;241m0\u001b[39m): v0, (\u001b[38;5;124m\"\u001b[39m\u001b[38;5;124mS\u001b[39m\u001b[38;5;124m\"\u001b[39m,\u001b[38;5;241m0\u001b[39m): v1}\n\u001b[1;32m---> 10\u001b[0m \u001b[43mddn\u001b[49m\u001b[38;5;241;43m.\u001b[39;49m\u001b[43mjoint_prob\u001b[49m\u001b[43m(\u001b[49m\u001b[43md\u001b[49m\u001b[43m)\u001b[49m\n",
      "File \u001b[1;32mc:\\Users\\alexa\\Desktop\\QBRL\\src\\networks\\bn.py:260\u001b[0m, in \u001b[0;36mBayesianNetwork.joint_prob\u001b[1;34m(self, d)\u001b[0m\n\u001b[0;32m    258\u001b[0m P \u001b[38;5;241m=\u001b[39m \u001b[38;5;241m1\u001b[39m\n\u001b[0;32m    259\u001b[0m \u001b[38;5;28;01mfor\u001b[39;00m node \u001b[38;5;129;01min\u001b[39;00m \u001b[38;5;28mlist\u001b[39m(d\u001b[38;5;241m.\u001b[39mkeys()):\n\u001b[1;32m--> 260\u001b[0m     P \u001b[38;5;241m*\u001b[39m\u001b[38;5;241m=\u001b[39m \u001b[38;5;28;43mself\u001b[39;49m\u001b[38;5;241;43m.\u001b[39;49m\u001b[43mcond_prob\u001b[49m\u001b[43m(\u001b[49m\u001b[43mnode\u001b[49m\u001b[43m,\u001b[49m\u001b[43m \u001b[49m\u001b[43md\u001b[49m\u001b[43m)\u001b[49m  \n\u001b[0;32m    261\u001b[0m \u001b[38;5;28;01mreturn\u001b[39;00m P\n",
      "File \u001b[1;32mc:\\Users\\alexa\\Desktop\\QBRL\\src\\networks\\bn.py:287\u001b[0m, in \u001b[0;36mBayesianNetwork.cond_prob\u001b[1;34m(self, node, d)\u001b[0m\n\u001b[0;32m    284\u001b[0m     \u001b[38;5;28;01melse\u001b[39;00m:\n\u001b[0;32m    285\u001b[0m       ps, pvals \u001b[38;5;241m=\u001b[39m [], []\n\u001b[1;32m--> 287\u001b[0m     cp \u001b[38;5;241m=\u001b[39m \u001b[38;5;28;43mself\u001b[39;49m\u001b[38;5;241;43m.\u001b[39;49m\u001b[43mcond_prob_aux\u001b[49m\u001b[43m(\u001b[49m\u001b[43mnode\u001b[49m\u001b[43m,\u001b[49m\u001b[43m \u001b[49m\u001b[43mval\u001b[49m\u001b[43m,\u001b[49m\u001b[43m \u001b[49m\u001b[43mparents\u001b[49m\u001b[43m,\u001b[49m\u001b[43m \u001b[49m\u001b[43mpvals\u001b[49m\u001b[43m)\u001b[49m\n\u001b[0;32m    288\u001b[0m     \u001b[38;5;28;01mreturn\u001b[39;00m cp\n\u001b[0;32m    289\u001b[0m \u001b[38;5;28;01melse\u001b[39;00m:\n\u001b[0;32m    290\u001b[0m     \u001b[38;5;66;03m# Need recursivity to consider possible parent values.\u001b[39;00m\n",
      "File \u001b[1;32mc:\\Users\\alexa\\Desktop\\QBRL\\src\\networks\\bn.py:317\u001b[0m, in \u001b[0;36mBayesianNetwork.cond_prob_aux\u001b[1;34m(self, node, nval, parents, pvals)\u001b[0m\n\u001b[0;32m    315\u001b[0m \u001b[38;5;28mprint\u001b[39m(\u001b[38;5;124m\"\u001b[39m\u001b[38;5;124mdf\u001b[39m\u001b[38;5;124m\"\u001b[39m, df)\n\u001b[0;32m    316\u001b[0m \u001b[38;5;28mprint\u001b[39m(\u001b[38;5;124m\"\u001b[39m\u001b[38;5;124mlnodes\u001b[39m\u001b[38;5;124m\"\u001b[39m, lnodes)\n\u001b[1;32m--> 317\u001b[0m \u001b[38;5;28mprint\u001b[39m(\u001b[38;5;124m\"\u001b[39m\u001b[38;5;124mdf[lnodes]\u001b[39m\u001b[38;5;124m\"\u001b[39m, \u001b[43mdf\u001b[49m\u001b[43m[\u001b[49m\u001b[43mlnodes\u001b[49m\u001b[43m]\u001b[49m)\n\u001b[0;32m    318\u001b[0m \u001b[38;5;28mprint\u001b[39m(\u001b[38;5;124m\"\u001b[39m\u001b[38;5;124mlvals\u001b[39m\u001b[38;5;124m\"\u001b[39m, lvals)\n\u001b[0;32m    319\u001b[0m cP \u001b[38;5;241m=\u001b[39m df\u001b[38;5;241m.\u001b[39mloc[(df[lnodes] \u001b[38;5;241m==\u001b[39m lvals)\u001b[38;5;241m.\u001b[39mall(axis \u001b[38;5;241m=\u001b[39m \u001b[38;5;241m1\u001b[39m), \u001b[38;5;124m'\u001b[39m\u001b[38;5;124mProb\u001b[39m\u001b[38;5;124m'\u001b[39m]\n",
      "\u001b[1;31mTypeError\u001b[0m: 'NoneType' object is not subscriptable"
     ]
    }
   ],
   "source": [
    "from get_ddns import get_tiger_ddn\n",
    "discount = 0.9\n",
    "ddn = get_tiger_ddn(BN, discount)\n",
    "# qddn = get_tiger_ddn(QBN, discount)\n",
    "\n",
    "v0 = 0\n",
    "v1 = pd.DataFrame({('S', 0): [0, 1], 'Prob': [0.5, 0.5]})\n",
    "d = {(\"A\",0): v0, (\"S\",0): v1}\n",
    "\n",
    "ddn.joint_prob(d)"
   ]
  },
  {
   "cell_type": "code",
   "execution_count": null,
   "metadata": {},
   "outputs": [
    {
     "ename": "AttributeError",
     "evalue": "'NoneType' object has no attribute 'loc'",
     "output_type": "error",
     "traceback": [
      "\u001b[1;31m---------------------------------------------------------------------------\u001b[0m",
      "\u001b[1;31mAttributeError\u001b[0m                            Traceback (most recent call last)",
      "Cell \u001b[1;32mIn[11], line 12\u001b[0m\n\u001b[0;32m      8\u001b[0m ev \u001b[38;5;241m=\u001b[39m {(\u001b[38;5;124m\"\u001b[39m\u001b[38;5;124mA\u001b[39m\u001b[38;5;124m\"\u001b[39m,\u001b[38;5;241m0\u001b[39m): v0, (\u001b[38;5;124m\"\u001b[39m\u001b[38;5;124mS\u001b[39m\u001b[38;5;124m\"\u001b[39m,\u001b[38;5;241m0\u001b[39m): v1}\n\u001b[0;32m     11\u001b[0m \u001b[38;5;66;03m# ddn.joint_prob(ev)\u001b[39;00m\n\u001b[1;32m---> 12\u001b[0m \u001b[43mjoint_prob\u001b[49m\u001b[43m(\u001b[49m\u001b[43mddn\u001b[49m\u001b[43m,\u001b[49m\u001b[43mev\u001b[49m\u001b[43m)\u001b[49m\n",
      "Cell \u001b[1;32mIn[1], line 4\u001b[0m, in \u001b[0;36mjoint_prob\u001b[1;34m(bn, d)\u001b[0m\n\u001b[0;32m      2\u001b[0m P \u001b[38;5;241m=\u001b[39m \u001b[38;5;241m1\u001b[39m\n\u001b[0;32m      3\u001b[0m \u001b[38;5;28;01mfor\u001b[39;00m node \u001b[38;5;129;01min\u001b[39;00m \u001b[38;5;28mlist\u001b[39m(d\u001b[38;5;241m.\u001b[39mkeys()):\n\u001b[1;32m----> 4\u001b[0m     P \u001b[38;5;241m*\u001b[39m\u001b[38;5;241m=\u001b[39m \u001b[43mcond_prob\u001b[49m\u001b[43m(\u001b[49m\u001b[43mbn\u001b[49m\u001b[43m,\u001b[49m\u001b[43m \u001b[49m\u001b[43mnode\u001b[49m\u001b[43m,\u001b[49m\u001b[43m \u001b[49m\u001b[43md\u001b[49m\u001b[43m)\u001b[49m  \n\u001b[0;32m      5\u001b[0m \u001b[38;5;28;01mreturn\u001b[39;00m P\n",
      "Cell \u001b[1;32mIn[1], line 34\u001b[0m, in \u001b[0;36mcond_prob\u001b[1;34m(bn, node, d)\u001b[0m\n\u001b[0;32m     32\u001b[0m     \u001b[38;5;28;01melse\u001b[39;00m:\n\u001b[0;32m     33\u001b[0m       ps, pvals \u001b[38;5;241m=\u001b[39m [], []\n\u001b[1;32m---> 34\u001b[0m     cp \u001b[38;5;241m=\u001b[39m \u001b[43mcond_prob_aux\u001b[49m\u001b[43m(\u001b[49m\u001b[43mbn\u001b[49m\u001b[43m,\u001b[49m\u001b[43m \u001b[49m\u001b[43mnode\u001b[49m\u001b[43m,\u001b[49m\u001b[43m \u001b[49m\u001b[43mval\u001b[49m\u001b[43m,\u001b[49m\u001b[43m \u001b[49m\u001b[43mps\u001b[49m\u001b[43m,\u001b[49m\u001b[43m \u001b[49m\u001b[43mpvals\u001b[49m\u001b[43m)\u001b[49m\n\u001b[0;32m     35\u001b[0m     \u001b[38;5;28;01mreturn\u001b[39;00m cp\n\u001b[0;32m     36\u001b[0m \u001b[38;5;28;01melse\u001b[39;00m:\n\u001b[0;32m     37\u001b[0m     \u001b[38;5;66;03m# Need recursivity to consider possible parent values.\u001b[39;00m\n",
      "Cell \u001b[1;32mIn[1], line 57\u001b[0m, in \u001b[0;36mcond_prob_aux\u001b[1;34m(bn, node, nval, parents, pvals)\u001b[0m\n\u001b[0;32m     55\u001b[0m lnodes \u001b[38;5;241m=\u001b[39m parents \u001b[38;5;241m+\u001b[39m [node]\n\u001b[0;32m     56\u001b[0m lvals \u001b[38;5;241m=\u001b[39m pvals \u001b[38;5;241m+\u001b[39m [nval]\n\u001b[1;32m---> 57\u001b[0m cP \u001b[38;5;241m=\u001b[39m \u001b[43mdf\u001b[49m\u001b[38;5;241;43m.\u001b[39;49m\u001b[43mloc\u001b[49m[(df[lnodes] \u001b[38;5;241m==\u001b[39m lvals)\u001b[38;5;241m.\u001b[39mall(axis \u001b[38;5;241m=\u001b[39m \u001b[38;5;241m1\u001b[39m), \u001b[38;5;124m'\u001b[39m\u001b[38;5;124mProb\u001b[39m\u001b[38;5;124m'\u001b[39m]\n\u001b[0;32m     58\u001b[0m cP \u001b[38;5;241m=\u001b[39m cP\u001b[38;5;241m.\u001b[39miat[\u001b[38;5;241m0\u001b[39m]\n\u001b[0;32m     59\u001b[0m \u001b[38;5;28;01mreturn\u001b[39;00m cP\n",
      "\u001b[1;31mAttributeError\u001b[0m: 'NoneType' object has no attribute 'loc'"
     ]
    }
   ],
   "source": [
    "from get_ddns import get_tiger_ddn\n",
    "discount = 0.9\n",
    "ddn = get_tiger_ddn(BN, discount)\n",
    "# qddn = get_tiger_ddn(QBN, discount)\n",
    "\n",
    "v0 = 0\n",
    "v1 = pd.DataFrame({('S', 0): [0, 1], 'Prob': [0.5, 0.5]})\n",
    "ev = {(\"A\",0): v0, (\"S\",0): v1}\n",
    "\n",
    "\n",
    "ddn.joint_prob(ev)\n",
    "# joint_prob(ddn,ev)"
   ]
  },
  {
   "cell_type": "code",
   "execution_count": null,
   "metadata": {},
   "outputs": [],
   "source": [
    "discount = 0.9\n",
    "ddn = get_tiger_ddn(BN, discount)\n",
    "v0 = 0\n",
    "v1 = pd.DataFrame({('S', 0): [0, 1], 'Prob': [0.5, 0.5]})\n",
    "ev = {(\"A\",0): v0, (\"S\",0): v1}\n",
    "\n",
    "ddn.joint_prob(ev)\n",
    "joint_prob(ddn, d)"
   ]
  },
  {
   "cell_type": "code",
   "execution_count": null,
   "metadata": {},
   "outputs": [],
   "source": [
    "from src.new.newtests import init_problem_bn\n",
    "ddn = init_problem_bn(old = False, quantum = True, simpler = False)\n",
    "ev = {\"Cloudy\": 1, \"Rain\": 1, \"WetGrass\": 0}\n",
    "\n",
    "ddn.joint_prob(ev)\n",
    "joint_prob(ddn, d)"
   ]
  }
 ],
 "metadata": {
  "kernelspec": {
   "display_name": "qbrl",
   "language": "python",
   "name": "python3"
  },
  "language_info": {
   "codemirror_mode": {
    "name": "ipython",
    "version": 3
   },
   "file_extension": ".py",
   "mimetype": "text/x-python",
   "name": "python",
   "nbconvert_exporter": "python",
   "pygments_lexer": "ipython3",
   "version": "3.13.1"
  }
 },
 "nbformat": 4,
 "nbformat_minor": 2
}
